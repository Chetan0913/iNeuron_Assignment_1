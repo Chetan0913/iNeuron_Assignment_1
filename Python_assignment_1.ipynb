{
 "cells": [
  {
   "cell_type": "raw",
   "id": "fcf6ba95",
   "metadata": {},
   "source": [
    "Q1. Why do we call Python as a general purpose and high-level programming language?\n",
    "Ans -- Python is way more like the English and easy to write and understand unlike binary code, which is hard to write and understand for humans. Hence, we called it as high-level programming language. As program is uses in widest variety of application domain, it is a general-purpose language."
   ]
  },
  {
   "cell_type": "raw",
   "id": "585cf4e0",
   "metadata": {},
   "source": [
    "Q2. Why is Python called a dynamically typed language?\n",
    "Ans – We don’t need to declare any datatype while creating any variable in python. It is smart enough to understand the type of values while running the code. Hence, we can call python is dynamically typed language\n"
   ]
  },
  {
   "cell_type": "raw",
   "id": "c772b361",
   "metadata": {},
   "source": [
    "Q3. List some pros and cons of Python programming language?\n",
    "Pros –\n",
    "1.\tPython is easy to learn and read\n",
    "2.\tPython have vast collection of libraries\n",
    "3.\tIt is free and open source\n",
    "4.\tIt is a portable programming lang.\n",
    "Cons –\n",
    "1.\tAs it interpreted programming lang, it takes bit more time to execute the code.\n",
    "2.\tIt consumes more memory\n",
    "3.\tIt is weak in mobile computing"
   ]
  },
  {
   "cell_type": "raw",
   "id": "37bb53d2",
   "metadata": {},
   "source": [
    "Q4. In what all domains can we use Python?\n",
    "Ans – it can be use in Web development, Game development, Data Engineering/analyst/science (Data Domain), IoT related stuff, GUI, MI and AI etc."
   ]
  },
  {
   "cell_type": "raw",
   "id": "f12f5c56",
   "metadata": {},
   "source": [
    "Q5. What are variable and how can we declare them?\n",
    "Ans – Variable is a name to store the value or data. It can be string/numeric values or collections of data. We just need to assign them to the particular value or data using assignment operator (=). We can only use single special character (i.e. underscore) in the variable name and can not be started with numeric value."
   ]
  },
  {
   "cell_type": "raw",
   "id": "dd58e936",
   "metadata": {},
   "source": [
    "Q6. How can we take an input from the user in Python?\n",
    "Ans – Python have inbuild function called input function. Syntax – input()\n",
    "Ex – Take input from user and store it in variable name\n",
    "Name = input(\"Please tell me your name : \")"
   ]
  },
  {
   "cell_type": "raw",
   "id": "7937a2a9",
   "metadata": {},
   "source": [
    "Q7. What is the default datatype of the value that has been taken as an input using input() function?\n",
    "Ans – if we are using input(), then the default datatype will be string"
   ]
  },
  {
   "cell_type": "raw",
   "id": "b5c76a1a",
   "metadata": {},
   "source": [
    "Q8. What is type casting?\n",
    "Ans – As python is dynamically typed language, sometimes we need to change the type of variable. And type casting will come in picture to help such scenarios. So type casting will convert the type into requested data type\n",
    "Ex – \n",
    "age= input(“Please tell me your age : “)\n",
    "here age will be a string type variable. So we can use type casting to convert that to int -\n",
    "age=int(input(“Please tell me your age : “))"
   ]
  },
  {
   "cell_type": "raw",
   "id": "e9389707",
   "metadata": {},
   "source": [
    "Q9. Can we take more than one input from the user using single input() function? If yes, how? If no, why?\n",
    "Ans – Yes, we can take more than one input with the help of single input() function. We need to use split() function to assign them to different variable.\n",
    "Ex – x, y = input(“please enter value of x and y : “).split()"
   ]
  },
  {
   "cell_type": "raw",
   "id": "116509b0",
   "metadata": {},
   "source": [
    "Q10. What are keywords?\n",
    "Ans -- Keywords are special reserved words that have specific meanings and purposes and can't be used for anything."
   ]
  },
  {
   "cell_type": "raw",
   "id": "35f27162",
   "metadata": {},
   "source": [
    "Q11. Can we use keywords as a variable? Support your answer with reason.\n",
    "Ans – No, we can not use keywords as a variable. As those are having special meaning in language setup, if we use it for a variable then it will show a error."
   ]
  },
  {
   "cell_type": "raw",
   "id": "6a4e3674",
   "metadata": {},
   "source": [
    "Q12. What is indentation? What's the use of indentation in Python?\n",
    "Ans – As we doesn’t use any brackets for block of coding, python have indentation for represent specific code as a block of code. If we missed to put indentation, it will shows error while running the code. Also, it helps user/person to read code easily."
   ]
  },
  {
   "cell_type": "raw",
   "id": "2ef4f3b3",
   "metadata": {},
   "source": [
    "Q13. How can we throw some output in Python?\n",
    "Ans – To show any output, python have inbuild function called print()"
   ]
  },
  {
   "cell_type": "raw",
   "id": "0abc9791",
   "metadata": {},
   "source": [
    "Q14. What are operators in Python?\n",
    "Ans – There are different types of operator in python like arithmetic operator (+,-,*,**,/,//,%), conditional operator (<,>,<=,>=,=,!=) , logical operator(and, or, not) and Boolean operator(True, False)"
   ]
  },
  {
   "cell_type": "raw",
   "id": "063c1035",
   "metadata": {},
   "source": [
    "Q15. What is difference between / and // operators?\n",
    "Ans -- / is a float division and // is a int division\n",
    "Ex – 5/2 = 2.5 but 5//2 = 2"
   ]
  },
  {
   "cell_type": "code",
   "execution_count": 4,
   "id": "8b2d9783",
   "metadata": {},
   "outputs": [
    {
     "name": "stdout",
     "output_type": "stream",
     "text": [
      "2.5\n",
      "2\n"
     ]
    }
   ],
   "source": [
    "print(5/2)\n",
    "print(5//2)"
   ]
  },
  {
   "cell_type": "raw",
   "id": "e3dc93a8",
   "metadata": {},
   "source": [
    "Q16. Write a code that gives following as an output.\n",
    "'''iNeuroniNeuroniNeuroniNeuron'''"
   ]
  },
  {
   "cell_type": "code",
   "execution_count": 7,
   "id": "df4e8e2e",
   "metadata": {},
   "outputs": [
    {
     "name": "stdout",
     "output_type": "stream",
     "text": [
      "iNeuroniNeuroniNeuroniNeuron\n"
     ]
    }
   ],
   "source": [
    "i = 'iNeuron'\n",
    "print(i*4)"
   ]
  },
  {
   "cell_type": "raw",
   "id": "64172e1a",
   "metadata": {},
   "source": [
    "Q17. Write a code to take a number as an input from the user and check if the number is odd or even."
   ]
  },
  {
   "cell_type": "code",
   "execution_count": 8,
   "id": "a398023c",
   "metadata": {},
   "outputs": [
    {
     "name": "stdout",
     "output_type": "stream",
     "text": [
      "Please enter any number : 34\n",
      "34 is Even\n"
     ]
    }
   ],
   "source": [
    "n=int(input(\"Please enter any number : \"))\n",
    "if n%2 ==0:\n",
    "    print(n,\"is Even\")\n",
    "else:\n",
    "    print(n,\"is odd\")"
   ]
  },
  {
   "cell_type": "raw",
   "id": "41574e0c",
   "metadata": {},
   "source": [
    "Q18. What are boolean operator?\n",
    "Ans – True and False are the Boolean operator"
   ]
  },
  {
   "cell_type": "raw",
   "id": "715f7000",
   "metadata": {},
   "source": [
    "Q19. What will the output of the following?\n",
    "```\n",
    "1 or 0\n",
    "\n",
    "0 and 0\n",
    "\n",
    "True and False and True\n",
    "\n",
    "1 or 0 or 0\n",
    "```\n",
    "Output will be –\n",
    "1\n",
    "0\n",
    "False\n",
    "1"
   ]
  },
  {
   "cell_type": "raw",
   "id": "956c197f",
   "metadata": {},
   "source": [
    "Q20. What are conditional statements in Python?\n",
    "Ans – if and else are the conditional statement in python."
   ]
  },
  {
   "cell_type": "raw",
   "id": "83e96e1c",
   "metadata": {},
   "source": [
    "Q21. What is use of 'if', 'elif' and 'else' keywords?\n",
    "If – it uses to check a condition and If that condition will be satisfied then code of if block will be executed\n",
    "Elif – it uses for multiple conditions/cases. So if user/programmer wanted to create 4 cases, he/she can create different elif block with specific condition and whatever condition will be true, that block of code will be executed.\n",
    "Else – it is a last block of condition statement. So if any condition will not get true then else block will get executed."
   ]
  },
  {
   "cell_type": "raw",
   "id": "a4c97bde",
   "metadata": {},
   "source": [
    "Q22. Write a code to take the age of person as an input and if age >= 18 display \"I can vote\". If age is < 18 display \"I can't vote\".\n"
   ]
  },
  {
   "cell_type": "code",
   "execution_count": 10,
   "id": "cba4adfc",
   "metadata": {},
   "outputs": [
    {
     "name": "stdout",
     "output_type": "stream",
     "text": [
      "Please enter your age : 45\n",
      "I can vote\n"
     ]
    }
   ],
   "source": [
    "age=int(input(\"Please enter your age : \"))\n",
    "if age>=18:\n",
    "    print(\"I can vote\")\n",
    "else:\n",
    "    print(\"I can't vote\")"
   ]
  },
  {
   "cell_type": "raw",
   "id": "70c389c5",
   "metadata": {},
   "source": [
    "Q23. Write a code that displays the sum of all the even numbers from the given list.\n",
    "numbers = [12, 75, 150, 180, 145, 525, 50]"
   ]
  },
  {
   "cell_type": "code",
   "execution_count": 11,
   "id": "ef1a1efa",
   "metadata": {},
   "outputs": [
    {
     "name": "stdout",
     "output_type": "stream",
     "text": [
      "1137\n"
     ]
    }
   ],
   "source": [
    "numbers = [12, 75, 150, 180, 145, 525, 50]\n",
    "sum = 0\n",
    "for i in numbers:\n",
    "    sum += i\n",
    "print(sum)"
   ]
  },
  {
   "cell_type": "raw",
   "id": "051e6a24",
   "metadata": {},
   "source": [
    "Q24. Write a code to take 3 numbers as an input from the user and display the greatest no as output."
   ]
  },
  {
   "cell_type": "code",
   "execution_count": 12,
   "id": "75754049",
   "metadata": {},
   "outputs": [
    {
     "name": "stdout",
     "output_type": "stream",
     "text": [
      "Please enter any three numbers : 3 4 5\n",
      "5 is gretest number\n"
     ]
    }
   ],
   "source": [
    "a,b,c = input(\"Please enter any three numbers : \").split()\n",
    "if int(a)>=int(b) and int(a)>=int(c):\n",
    "    print(a,\"is gretest number\")\n",
    "elif int(b)>=int(a) and int(b)>=int(c):\n",
    "    print(b,\"is gretest number\")\n",
    "else:\n",
    "    print(c,\"is gretest number\")"
   ]
  },
  {
   "cell_type": "raw",
   "id": "f9d2135c",
   "metadata": {},
   "source": [
    "Q25. Write a program to display only those numbers from a list that satisfy the following conditions\n",
    "\n",
    "- The number must be divisible by five\n",
    "\n",
    "- If the number is greater than 150, then skip it and move to the next number\n",
    "\n",
    "- If the number is greater than 500, then stop the loop\n",
    "\n",
    "numbers = [12, 75, 150, 180, 145, 525, 50]\n"
   ]
  },
  {
   "cell_type": "code",
   "execution_count": 14,
   "id": "72ab73de",
   "metadata": {},
   "outputs": [
    {
     "name": "stdout",
     "output_type": "stream",
     "text": [
      "75\n",
      "150\n",
      "145\n"
     ]
    }
   ],
   "source": [
    "numbers = [12, 75, 150, 180, 145, 525, 50]\n",
    "for i in numbers:\n",
    "    if i>500:\n",
    "        break\n",
    "    if (i%5==0) and (i <=150):\n",
    "        print(i)"
   ]
  }
 ],
 "metadata": {
  "kernelspec": {
   "display_name": "Python 3 (ipykernel)",
   "language": "python",
   "name": "python3"
  },
  "language_info": {
   "codemirror_mode": {
    "name": "ipython",
    "version": 3
   },
   "file_extension": ".py",
   "mimetype": "text/x-python",
   "name": "python",
   "nbconvert_exporter": "python",
   "pygments_lexer": "ipython3",
   "version": "3.10.8"
  }
 },
 "nbformat": 4,
 "nbformat_minor": 5
}
